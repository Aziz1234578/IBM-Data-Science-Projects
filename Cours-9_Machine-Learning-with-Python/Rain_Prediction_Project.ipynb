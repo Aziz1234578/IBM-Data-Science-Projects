{
 "cells": [
  {
   "cell_type": "code",
   "execution_count": 2,
   "id": "626cd954-341c-49f0-9d45-4dcaadf3cf26",
   "metadata": {},
   "outputs": [
    {
     "name": "stdout",
     "output_type": "stream",
     "text": [
      "       Date  MinTemp  MaxTemp  Rainfall  Evaporation  Sunshine WindGustDir  \\\n",
      "0  2/1/2008     19.5     22.4      15.6          6.2       0.0           W   \n",
      "1  2/2/2008     19.5     25.6       6.0          3.4       2.7           W   \n",
      "2  2/3/2008     21.6     24.5       6.6          2.4       0.1           W   \n",
      "3  2/4/2008     20.2     22.8      18.8          2.2       0.0           W   \n",
      "4  2/5/2008     19.7     25.7      77.4          4.8       0.0           W   \n",
      "\n",
      "   WindGustSpeed WindDir9am WindDir3pm  ...  Humidity9am  Humidity3pm  \\\n",
      "0             41          S        SSW  ...           92           84   \n",
      "1             41          W          E  ...           83           73   \n",
      "2             41        ESE        ESE  ...           88           86   \n",
      "3             41        NNE          E  ...           83           90   \n",
      "4             41        NNE          W  ...           88           74   \n",
      "\n",
      "   Pressure9am  Pressure3pm  Cloud9am  Cloud3pm  Temp9am  Temp3pm  RainToday  \\\n",
      "0       1017.6       1017.4         8         8     20.7     20.9        Yes   \n",
      "1       1017.9       1016.4         7         7     22.4     24.8        Yes   \n",
      "2       1016.7       1015.6         7         8     23.5     23.0        Yes   \n",
      "3       1014.2       1011.8         8         8     21.4     20.9        Yes   \n",
      "4       1008.3       1004.8         8         8     22.5     25.5        Yes   \n",
      "\n",
      "   RainTomorrow  \n",
      "0           Yes  \n",
      "1           Yes  \n",
      "2           Yes  \n",
      "3           Yes  \n",
      "4           Yes  \n",
      "\n",
      "[5 rows x 22 columns]\n"
     ]
    }
   ],
   "source": [
    "import pandas as pd\n",
    "\n",
    "url = \"https://cf-courses-data.s3.us.cloud-object-storage.appdomain.cloud/IBMDeveloperSkillsNetwork-ML0101EN-SkillUp/labs/ML-FinalAssignment/Weather_Data.csv\"\n",
    "df = pd.read_csv(url)\n",
    "print(df.head())\n"
   ]
  },
  {
   "cell_type": "code",
   "execution_count": 10,
   "id": "1a930b0f-cafd-4431-a6ce-b96ff1d70175",
   "metadata": {},
   "outputs": [],
   "source": [
    "import warnings\n",
    "warnings.filterwarnings(\"ignore\", category=FutureWarning)\n"
   ]
  },
  {
   "cell_type": "code",
   "execution_count": 14,
   "id": "08688568-5325-4084-b97c-36f72c5b6157",
   "metadata": {},
   "outputs": [
    {
     "name": "stdout",
     "output_type": "stream",
     "text": [
      "Taille de l'ensemble d'entraînement : (2616, 20)\n",
      "Taille de l'ensemble de test : (655, 20)\n"
     ]
    }
   ],
   "source": [
    "target = df['RainTomorrow'].replace({'No': 0, 'Yes': 1}).astype(int)\n",
    "\n",
    "features = df.drop(columns=['RainTomorrow', 'Date'])\n",
    "\n",
    "x_train, x_test, y_train, y_test = train_test_split(features, target, test_size=0.2, random_state=10)\n",
    "\n",
    "print(\"Taille de l'ensemble d'entraînement :\", x_train.shape)\n",
    "print(\"Taille de l'ensemble de test :\", x_test.shape)"
   ]
  },
  {
   "cell_type": "code",
   "execution_count": 24,
   "id": "61efcfd2-723e-4816-8d9b-5078674bd308",
   "metadata": {},
   "outputs": [
    {
     "name": "stdout",
     "output_type": "stream",
     "text": [
      "Évaluation du modèle de régression linéaire :\n",
      "MAE : 0.26\n",
      "MSE : 0.12\n",
      "R2 : 0.43\n"
     ]
    }
   ],
   "source": [
    "from sklearn.linear_model import LinearRegression\n",
    "from sklearn.metrics import mean_absolute_error, mean_squared_error, r2_score\n",
    "\n",
    "features = pd.get_dummies(features, columns=['WindGustDir', 'WindDir9am', 'WindDir3pm', 'RainToday'], drop_first=True)\n",
    "\n",
    "x_train, x_test, y_train, y_test = train_test_split(features, target, test_size=0.2, random_state=10)\n",
    "\n",
    "model_lr = LinearRegression()\n",
    "\n",
    "model_lr.fit(x_train, y_train)\n",
    "\n",
    "predictions = model_lr.predict(x_test)\n",
    "\n",
    "mae = mean_absolute_error(y_test, predictions)\n",
    "mse = mean_squared_error(y_test, predictions)\n",
    "r2 = r2_score(y_test, predictions)\n",
    "\n",
    "print(\"Évaluation du modèle de régression linéaire :\")\n",
    "print(f\"MAE : {mae:.2f}\")\n",
    "print(f\"MSE : {mse:.2f}\")\n",
    "print(f\"R2 : {r2:.2f}\")\n"
   ]
  },
  {
   "cell_type": "code",
   "execution_count": 26,
   "id": "d092f72f-d66d-4934-bb0d-dbea89405290",
   "metadata": {},
   "outputs": [
    {
     "name": "stdout",
     "output_type": "stream",
     "text": [
      "Rapport des métriques pour la régression linéaire :\n",
      "                      Metric     Value\n",
      "0  Mean Absolute Error (MAE)  0.256318\n",
      "1   Mean Squared Error (MSE)  0.115721\n",
      "2                   R2 Score  0.427132\n"
     ]
    }
   ],
   "source": [
    "import pandas as pd\n",
    "\n",
    "regression_report = pd.DataFrame({\n",
    "    \"Metric\": [\"Mean Absolute Error (MAE)\", \"Mean Squared Error (MSE)\", \"R2 Score\"],\n",
    "    \"Value\": [mae, mse, r2]\n",
    "})\n",
    "\n",
    "print(\"Rapport des métriques pour la régression linéaire :\")\n",
    "print(regression_report)\n"
   ]
  },
  {
   "cell_type": "code",
   "execution_count": 30,
   "id": "fd7708e2-5d26-4b16-8167-199101bc80f7",
   "metadata": {},
   "outputs": [
    {
     "name": "stdout",
     "output_type": "stream",
     "text": [
      "Évaluation du modèle KNN :\n",
      "Accuracy : 0.82\n",
      "F1 Score : 0.60\n",
      "Jaccard Index : 0.43\n"
     ]
    }
   ],
   "source": [
    "import os\n",
    "import warnings\n",
    "from sklearn.neighbors import KNeighborsClassifier\n",
    "from sklearn.metrics import accuracy_score, f1_score, jaccard_score\n",
    "\n",
    "os.environ[\"LOKY_MAX_CPU_COUNT\"] = \"2\" \n",
    "warnings.filterwarnings(\"ignore\", message=\".*LOKY_MAX_CPU_COUNT.*\")\n",
    "\n",
    "knn_model = KNeighborsClassifier(n_neighbors=4) \n",
    "knn_model.fit(x_train, y_train)\n",
    "\n",
    "knn_predictions = knn_model.predict(x_test)\n",
    "\n",
    "knn_accuracy = accuracy_score(y_test, knn_predictions)\n",
    "knn_f1 = f1_score(y_test, knn_predictions)\n",
    "knn_jaccard = jaccard_score(y_test, knn_predictions)\n",
    "\n",
    "print(\"Évaluation du modèle KNN :\")\n",
    "print(f\"Accuracy : {knn_accuracy:.2f}\")\n",
    "print(f\"F1 Score : {knn_f1:.2f}\")\n",
    "print(f\"Jaccard Index : {knn_jaccard:.2f}\")\n"
   ]
  },
  {
   "cell_type": "code",
   "execution_count": 32,
   "id": "0f69c702-a9dd-4afb-9d22-154af4b171f1",
   "metadata": {},
   "outputs": [
    {
     "name": "stdout",
     "output_type": "stream",
     "text": [
      "Évaluation du modèle avec les arbres de décision :\n",
      "Accuracy : 0.76\n",
      "F1 Score : 0.58\n",
      "Jaccard Index : 0.41\n"
     ]
    }
   ],
   "source": [
    "from sklearn.tree import DecisionTreeClassifier\n",
    "from sklearn.metrics import accuracy_score, f1_score, jaccard_score\n",
    "\n",
    "tree_model = DecisionTreeClassifier(random_state=10)  # Vous pouvez ajuster les hyperparamètres si nécessaire\n",
    "\n",
    "tree_model.fit(x_train, y_train)\n",
    "\n",
    "tree_predictions = tree_model.predict(x_test)\n",
    "\n",
    "tree_accuracy = accuracy_score(y_test, tree_predictions)\n",
    "tree_f1 = f1_score(y_test, tree_predictions)\n",
    "tree_jaccard = jaccard_score(y_test, tree_predictions)\n",
    "\n",
    "print(\"Évaluation du modèle avec les arbres de décision :\")\n",
    "print(f\"Accuracy : {tree_accuracy:.2f}\")\n",
    "print(f\"F1 Score : {tree_f1:.2f}\")\n",
    "print(f\"Jaccard Index : {tree_jaccard:.2f}\")\n"
   ]
  },
  {
   "cell_type": "code",
   "execution_count": 34,
   "id": "82318a5c-23c2-41ef-b18e-b013e9be2ad3",
   "metadata": {},
   "outputs": [
    {
     "name": "stdout",
     "output_type": "stream",
     "text": [
      "Évaluation du modèle de régression logistique :\n",
      "Accuracy : 0.84\n",
      "F1 Score : 0.69\n",
      "Jaccard Index : 0.52\n",
      "Log Loss : 0.36\n"
     ]
    }
   ],
   "source": [
    "from sklearn.linear_model import LogisticRegression\n",
    "from sklearn.metrics import accuracy_score, f1_score, jaccard_score, log_loss\n",
    "\n",
    "logistic_model = LogisticRegression(solver='liblinear', random_state=10)\n",
    "\n",
    "logistic_model.fit(x_train, y_train)\n",
    "\n",
    "logistic_predictions = logistic_model.predict(x_test)\n",
    "\n",
    "logistic_probabilities = logistic_model.predict_proba(x_test)\n",
    "\n",
    "logistic_accuracy = accuracy_score(y_test, logistic_predictions)\n",
    "logistic_f1 = f1_score(y_test, logistic_predictions)\n",
    "logistic_jaccard = jaccard_score(y_test, logistic_predictions)\n",
    "logistic_log_loss = log_loss(y_test, logistic_probabilities)\n",
    "\n",
    "print(\"Évaluation du modèle de régression logistique :\")\n",
    "print(f\"Accuracy : {logistic_accuracy:.2f}\")\n",
    "print(f\"F1 Score : {logistic_f1:.2f}\")\n",
    "print(f\"Jaccard Index : {logistic_jaccard:.2f}\")\n",
    "print(f\"Log Loss : {logistic_log_loss:.2f}\")\n"
   ]
  },
  {
   "cell_type": "code",
   "execution_count": 38,
   "id": "810ac23e-fb33-43e5-bdc9-aa137ac88fda",
   "metadata": {},
   "outputs": [
    {
     "name": "stdout",
     "output_type": "stream",
     "text": [
      "Évaluation du modèle SVM :\n",
      "Accuracy : 0.72\n",
      "F1 Score : 0.00\n",
      "Jaccard Index : 0.00\n"
     ]
    }
   ],
   "source": [
    "from sklearn.svm import SVC\n",
    "from sklearn.metrics import accuracy_score, f1_score, jaccard_score\n",
    "\n",
    "svm_model = SVC(kernel='rbf', random_state=10)  \n",
    "\n",
    "svm_model.fit(x_train, y_train)\n",
    "\n",
    "svm_predictions = svm_model.predict(x_test)\n",
    "\n",
    "svm_accuracy = accuracy_score(y_test, svm_predictions)\n",
    "svm_f1 = f1_score(y_test, svm_predictions)\n",
    "svm_jaccard = jaccard_score(y_test, svm_predictions)\n",
    "\n",
    "print(\"Évaluation du modèle SVM :\")\n",
    "print(f\"Accuracy : {svm_accuracy:.2f}\")\n",
    "print(f\"F1 Score : {svm_f1:.2f}\")\n",
    "print(f\"Jaccard Index : {svm_jaccard:.2f}\")\n"
   ]
  },
  {
   "cell_type": "code",
   "execution_count": null,
   "id": "19096b45-cf09-4c59-be4f-71b225cbd9ae",
   "metadata": {},
   "outputs": [],
   "source": []
  }
 ],
 "metadata": {
  "kernelspec": {
   "display_name": "Python 3 (ipykernel)",
   "language": "python",
   "name": "python3"
  },
  "language_info": {
   "codemirror_mode": {
    "name": "ipython",
    "version": 3
   },
   "file_extension": ".py",
   "mimetype": "text/x-python",
   "name": "python",
   "nbconvert_exporter": "python",
   "pygments_lexer": "ipython3",
   "version": "3.12.7"
  }
 },
 "nbformat": 4,
 "nbformat_minor": 5
}
